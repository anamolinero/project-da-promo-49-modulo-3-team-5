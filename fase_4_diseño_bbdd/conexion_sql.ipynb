{
 "cells": [
  {
   "cell_type": "code",
   "execution_count": null,
   "metadata": {},
   "outputs": [],
   "source": [
    "import pandas as pd\n",
    "import json"
   ]
  },
  {
   "cell_type": "code",
   "execution_count": null,
   "metadata": {},
   "outputs": [],
   "source": [
    "df_final = pd.read_csv(\"C:/Users/Usuario/Documents/Adalab49/Módulo 3/Proyecto_módulo 3/Copia/project-da-promo-49-modulo-3-team-5/fase_2_transformacion/df_final.csv\")\n"
   ]
  },
  {
   "cell_type": "code",
   "execution_count": null,
   "metadata": {},
   "outputs": [],
   "source": [
    "df_final.head()"
   ]
  },
  {
   "cell_type": "code",
   "execution_count": null,
   "metadata": {},
   "outputs": [],
   "source": [
    "df_final.columns"
   ]
  },
  {
   "cell_type": "code",
   "execution_count": null,
   "metadata": {},
   "outputs": [],
   "source": [
    "df_final.columns = df_final.columns.str.strip()\n",
    "#Para borrar espacios en blanco"
   ]
  },
  {
   "cell_type": "code",
   "execution_count": null,
   "metadata": {},
   "outputs": [],
   "source": [
    "df_final = df_final.loc[:, ~df_final.columns.str.contains(\"^Unnamed\")]\n",
    "# Para borrar las columnas Unnamed"
   ]
  },
  {
   "cell_type": "code",
   "execution_count": null,
   "metadata": {},
   "outputs": [],
   "source": [
    "df_final.fillna(value='', inplace=True) # Esto reemplaza NaN por None, que se convierte en NULL en MySQL."
   ]
  },
  {
   "cell_type": "code",
   "execution_count": null,
   "metadata": {},
   "outputs": [],
   "source": [
    "# Hay que dividirlo en 3 tablas porque ahora solo tenemos una que queremos convertir en 3\n",
    "# Tabla 1: employee_details\n",
    "df_employee_details = df_final[['employee_id', 'age', 'distancefromhome', 'education',\n",
    "                                'educationfield', 'gender', 'maritalstatus', 'numcompaniesworked',\n",
    "                                'totalworkingyears', 'datebirth']]"
   ]
  },
  {
   "cell_type": "code",
   "execution_count": null,
   "metadata": {},
   "outputs": [],
   "source": [
    "# Tabla 2: employee_satisfaction\n",
    "df_employee_satisfaction = df_final[['employee_id', 'environmentsatisfaction', 'jobsatisfaction',\n",
    "                                     'relationshipsatisfaction', 'worklifebalance', 'jobinvolvement']]"
   ]
  },
  {
   "cell_type": "code",
   "execution_count": null,
   "metadata": {},
   "outputs": [],
   "source": [
    "# Tabla 3: job_details\n",
    "df_job_details = df_final[['employee_id', 'attrition', 'businesstravel', '$_dailyrate', 'department',\n",
    "                           '$_hourlyrate', 'joblevel', 'jobrole', '$_monthlyincome', '$_monthlyrate',\n",
    "                           'overtime', '%_percentsalaryhike', 'performancerating', 'standardhours',\n",
    "                           'stockoptionlevel', 'trainingtimeslastyear', 'yearsatcompany',\n",
    "                           'yearsincurrentrole', 'yearssincelastpromotion', 'yearswithcurrmanager',\n",
    "                           '$_salary', 'remotework']]\n"
   ]
  },
  {
   "cell_type": "code",
   "execution_count": null,
   "metadata": {},
   "outputs": [],
   "source": [
    "df_job_details.columns = df_job_details.columns.str.replace(r'[$%]', '', regex=True)\n",
    "df_job_details.columns = df_job_details.columns.str.replace(r'^_', '', regex=True)\n",
    "# Eliminar símbolos que dan error"
   ]
  },
  {
   "cell_type": "code",
   "execution_count": null,
   "metadata": {},
   "outputs": [],
   "source": [
    "lista_details = df_employee_details.values.tolist()\n",
    "lista_satisfaction = df_employee_satisfaction.values.tolist()\n",
    "lista_job = df_job_details.values.tolist()"
   ]
  },
  {
   "cell_type": "code",
   "execution_count": null,
   "metadata": {},
   "outputs": [],
   "source": [
    "print(df_job_details.columns.tolist())  \n"
   ]
  },
  {
   "cell_type": "code",
   "execution_count": null,
   "metadata": {},
   "outputs": [],
   "source": [
    "import mysql.connector\n",
    "from mysql.connector import errorcode"
   ]
  },
  {
   "cell_type": "code",
   "execution_count": null,
   "metadata": {},
   "outputs": [],
   "source": [
    "cnx = mysql.connector.connect(user='root', password='AlumnaAdalab',\n",
    "                              host='127.0.0.1',\n",
    "                              database ='proyecto_abc')\n",
    "\n",
    "mycursor = cnx.cursor() # creamos el \"camioncito que transporta\""
   ]
  },
  {
   "cell_type": "code",
   "execution_count": null,
   "metadata": {},
   "outputs": [],
   "source": [
    "# Consulta SQL para INTRODUCIR DATOS de employee_details\n",
    "query = \"\"\"\n",
    "INSERT INTO employee_details (employee_id,age,distancefromhome,education,educationfield,gender,maritalstatus,numcompaniesworked,totalworkingyears,datebirth)\n",
    "VALUES (%s,%s,%s,%s,%s,%s,%s,%s,%s,%s)\n",
    "\"\"\"\n",
    "mycursor.executemany(query, lista_details)"
   ]
  },
  {
   "cell_type": "code",
   "execution_count": null,
   "metadata": {},
   "outputs": [],
   "source": [
    "# Consulta SQL para INTRODUCIR DATOS de employee_satisfaction\n",
    "\n",
    "query2 = \"\"\"\n",
    "INSERT INTO employee_satisfaction (employee_id,environmentsatisfaction,jobsatisfaction,relationshipsatisfaction,worklifebalance,jobinvolvement)\n",
    "VALUES (%s,%s,%s,%s,%s,%s)\n",
    "\"\"\"\n",
    "mycursor.executemany(query2, lista_satisfaction)"
   ]
  },
  {
   "cell_type": "code",
   "execution_count": null,
   "metadata": {},
   "outputs": [],
   "source": [
    "# Consulta SQL para INTRODUCIR DATOS de job_details\n",
    "query3 = \"\"\"\n",
    "INSERT INTO job_details (employee_id, attrition, businesstravel, dailyrate, department, hourlyrate, joblevel, jobrole, monthlyincome, monthlyrate, overtime, percentsalaryhike, performancerating, standardhours, stockoptionlevel, trainingtimeslastyear, yearsatcompany, yearsincurrentrole, yearssincelastpromotion, yearswithcurrmanager, salary, remotework)\n",
    "VALUES (%s,%s,%s,%s,%s,%s,%s,%s,%s,%s,%s,%s,%s,%s,%s,%s,%s,%s,%s,%s,%s,%s)\n",
    "\"\"\"\n",
    "\n",
    "# Asegúrate de que lista_job tiene la misma cantidad de columnas que la consulta\n",
    "mycursor.executemany(query3, lista_job)"
   ]
  },
  {
   "cell_type": "code",
   "execution_count": null,
   "metadata": {},
   "outputs": [],
   "source": [
    "lista_de_tuplas = []\n",
    "# Insertar datos\n",
    "try:\n",
    "    mycursor.executemany(query, lista_de_tuplas)\n",
    "    cnx.commit()\n",
    "    print(\"✅ Datos insertados correctamente.\")\n",
    "    print(mycursor.rowcount, \"registros insertados.\")\n",
    "except mysql.connector.Error as err:\n",
    "    print(\"❌ Error al insertar:\", err)\n",
    "    cnx.rollback()\n",
    "\n",
    "# Cerrar conexión\n",
    "mycursor.close()\n",
    "cnx.close()"
   ]
  }
 ],
 "metadata": {
  "kernelspec": {
   "display_name": "base",
   "language": "python",
   "name": "python3"
  },
  "language_info": {
   "codemirror_mode": {
    "name": "ipython",
    "version": 3
   },
   "file_extension": ".py",
   "mimetype": "text/x-python",
   "name": "python",
   "nbconvert_exporter": "python",
   "pygments_lexer": "ipython3",
   "version": "3.12.7"
  }
 },
 "nbformat": 4,
 "nbformat_minor": 2
}
