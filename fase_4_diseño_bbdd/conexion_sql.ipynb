{
 "cells": [
  {
   "cell_type": "code",
   "execution_count": 1,
   "metadata": {},
   "outputs": [],
   "source": [
    "import pandas as pd\n",
    "import json"
   ]
  },
  {
   "cell_type": "code",
   "execution_count": 2,
   "metadata": {},
   "outputs": [],
   "source": [
    "df_final = pd.read_csv(\"C:/Users/Usuario/Documents/Adalab49/Módulo 3/Proyecto_módulo 3/Copia/project-da-promo-49-modulo-3-team-5/fase_2_transformacion/df_final.csv\")\n"
   ]
  },
  {
   "cell_type": "code",
   "execution_count": 3,
   "metadata": {},
   "outputs": [
    {
     "data": {
      "text/html": [
       "<div>\n",
       "<style scoped>\n",
       "    .dataframe tbody tr th:only-of-type {\n",
       "        vertical-align: middle;\n",
       "    }\n",
       "\n",
       "    .dataframe tbody tr th {\n",
       "        vertical-align: top;\n",
       "    }\n",
       "\n",
       "    .dataframe thead th {\n",
       "        text-align: right;\n",
       "    }\n",
       "</style>\n",
       "<table border=\"1\" class=\"dataframe\">\n",
       "  <thead>\n",
       "    <tr style=\"text-align: right;\">\n",
       "      <th></th>\n",
       "      <th>Unnamed: 0</th>\n",
       "      <th>employee_id</th>\n",
       "      <th>age</th>\n",
       "      <th>attrition</th>\n",
       "      <th>businesstravel</th>\n",
       "      <th>$_dailyrate</th>\n",
       "      <th>department</th>\n",
       "      <th>distancefromhome</th>\n",
       "      <th>education</th>\n",
       "      <th>educationfield</th>\n",
       "      <th>...</th>\n",
       "      <th>totalworkingyears</th>\n",
       "      <th>trainingtimeslastyear</th>\n",
       "      <th>worklifebalance</th>\n",
       "      <th>yearsatcompany</th>\n",
       "      <th>yearsincurrentrole</th>\n",
       "      <th>yearssincelastpromotion</th>\n",
       "      <th>yearswithcurrmanager</th>\n",
       "      <th>datebirth</th>\n",
       "      <th>$_salary</th>\n",
       "      <th>remotework</th>\n",
       "    </tr>\n",
       "  </thead>\n",
       "  <tbody>\n",
       "    <tr>\n",
       "      <th>0</th>\n",
       "      <td>0</td>\n",
       "      <td>1</td>\n",
       "      <td>51</td>\n",
       "      <td>No</td>\n",
       "      <td>non_travel</td>\n",
       "      <td>2015.72</td>\n",
       "      <td>NaN</td>\n",
       "      <td>6</td>\n",
       "      <td>3</td>\n",
       "      <td>NaN</td>\n",
       "      <td>...</td>\n",
       "      <td>30.037232</td>\n",
       "      <td>5</td>\n",
       "      <td>3.000000</td>\n",
       "      <td>20</td>\n",
       "      <td>NaN</td>\n",
       "      <td>15</td>\n",
       "      <td>15</td>\n",
       "      <td>1972</td>\n",
       "      <td>195370.000000</td>\n",
       "      <td>yes</td>\n",
       "    </tr>\n",
       "    <tr>\n",
       "      <th>1</th>\n",
       "      <td>1</td>\n",
       "      <td>2</td>\n",
       "      <td>52</td>\n",
       "      <td>No</td>\n",
       "      <td>non_travel</td>\n",
       "      <td>2063.39</td>\n",
       "      <td>NaN</td>\n",
       "      <td>1</td>\n",
       "      <td>4</td>\n",
       "      <td>life sciences</td>\n",
       "      <td>...</td>\n",
       "      <td>34.000000</td>\n",
       "      <td>5</td>\n",
       "      <td>3.000000</td>\n",
       "      <td>33</td>\n",
       "      <td>NaN</td>\n",
       "      <td>11</td>\n",
       "      <td>9</td>\n",
       "      <td>1971</td>\n",
       "      <td>199990.000000</td>\n",
       "      <td>yes</td>\n",
       "    </tr>\n",
       "    <tr>\n",
       "      <th>2</th>\n",
       "      <td>2</td>\n",
       "      <td>3</td>\n",
       "      <td>42</td>\n",
       "      <td>No</td>\n",
       "      <td>travel_rarely</td>\n",
       "      <td>1984.25</td>\n",
       "      <td>research &amp; development</td>\n",
       "      <td>4</td>\n",
       "      <td>2</td>\n",
       "      <td>technical degree</td>\n",
       "      <td>...</td>\n",
       "      <td>22.000000</td>\n",
       "      <td>3</td>\n",
       "      <td>2.802326</td>\n",
       "      <td>22</td>\n",
       "      <td>NaN</td>\n",
       "      <td>11</td>\n",
       "      <td>15</td>\n",
       "      <td>1981</td>\n",
       "      <td>192320.000000</td>\n",
       "      <td>yes</td>\n",
       "    </tr>\n",
       "    <tr>\n",
       "      <th>3</th>\n",
       "      <td>3</td>\n",
       "      <td>4</td>\n",
       "      <td>47</td>\n",
       "      <td>No</td>\n",
       "      <td>travel_rarely</td>\n",
       "      <td>1771.40</td>\n",
       "      <td>NaN</td>\n",
       "      <td>2</td>\n",
       "      <td>4</td>\n",
       "      <td>medical</td>\n",
       "      <td>...</td>\n",
       "      <td>26.670674</td>\n",
       "      <td>2</td>\n",
       "      <td>2.791187</td>\n",
       "      <td>20</td>\n",
       "      <td>NaN</td>\n",
       "      <td>5</td>\n",
       "      <td>6</td>\n",
       "      <td>1976</td>\n",
       "      <td>171690.000000</td>\n",
       "      <td>no</td>\n",
       "    </tr>\n",
       "    <tr>\n",
       "      <th>4</th>\n",
       "      <td>4</td>\n",
       "      <td>5</td>\n",
       "      <td>46</td>\n",
       "      <td>No</td>\n",
       "      <td>non_travel</td>\n",
       "      <td>1582.77</td>\n",
       "      <td>NaN</td>\n",
       "      <td>3</td>\n",
       "      <td>3</td>\n",
       "      <td>technical degree</td>\n",
       "      <td>...</td>\n",
       "      <td>11.329230</td>\n",
       "      <td>5</td>\n",
       "      <td>3.000000</td>\n",
       "      <td>19</td>\n",
       "      <td>NaN</td>\n",
       "      <td>2</td>\n",
       "      <td>8</td>\n",
       "      <td>1977</td>\n",
       "      <td>80223.043381</td>\n",
       "      <td>no</td>\n",
       "    </tr>\n",
       "  </tbody>\n",
       "</table>\n",
       "<p>5 rows × 37 columns</p>\n",
       "</div>"
      ],
      "text/plain": [
       "   Unnamed: 0  employee_id  age attrition businesstravel  $_dailyrate  \\\n",
       "0           0            1   51        No     non_travel      2015.72   \n",
       "1           1            2   52        No     non_travel      2063.39   \n",
       "2           2            3   42        No  travel_rarely      1984.25   \n",
       "3           3            4   47        No  travel_rarely      1771.40   \n",
       "4           4            5   46        No     non_travel      1582.77   \n",
       "\n",
       "                 department  distancefromhome  education    educationfield  \\\n",
       "0                       NaN                 6          3               NaN   \n",
       "1                       NaN                 1          4     life sciences   \n",
       "2   research & development                  4          2  technical degree   \n",
       "3                       NaN                 2          4           medical   \n",
       "4                       NaN                 3          3  technical degree   \n",
       "\n",
       "   ...  totalworkingyears trainingtimeslastyear  worklifebalance  \\\n",
       "0  ...          30.037232                     5         3.000000   \n",
       "1  ...          34.000000                     5         3.000000   \n",
       "2  ...          22.000000                     3         2.802326   \n",
       "3  ...          26.670674                     2         2.791187   \n",
       "4  ...          11.329230                     5         3.000000   \n",
       "\n",
       "   yearsatcompany  yearsincurrentrole yearssincelastpromotion  \\\n",
       "0              20                 NaN                      15   \n",
       "1              33                 NaN                      11   \n",
       "2              22                 NaN                      11   \n",
       "3              20                 NaN                       5   \n",
       "4              19                 NaN                       2   \n",
       "\n",
       "   yearswithcurrmanager datebirth       $_salary  remotework  \n",
       "0                    15      1972  195370.000000         yes  \n",
       "1                     9      1971  199990.000000         yes  \n",
       "2                    15      1981  192320.000000         yes  \n",
       "3                     6      1976  171690.000000          no  \n",
       "4                     8      1977   80223.043381          no  \n",
       "\n",
       "[5 rows x 37 columns]"
      ]
     },
     "execution_count": 3,
     "metadata": {},
     "output_type": "execute_result"
    }
   ],
   "source": [
    "df_final.head()"
   ]
  },
  {
   "cell_type": "code",
   "execution_count": 4,
   "metadata": {},
   "outputs": [
    {
     "data": {
      "text/plain": [
       "Index(['Unnamed: 0', 'employee_id', 'age', 'attrition', 'businesstravel',\n",
       "       '$_dailyrate', 'department', 'distancefromhome', 'education',\n",
       "       'educationfield', 'environmentsatisfaction', 'gender', '$_hourlyrate',\n",
       "       'jobinvolvement', 'joblevel', 'jobrole', 'jobsatisfaction',\n",
       "       'maritalstatus', '$_monthlyincome', '$_monthlyrate',\n",
       "       'numcompaniesworked', 'overtime', '%_percentsalaryhike',\n",
       "       'performancerating', 'relationshipsatisfaction', 'standardhours',\n",
       "       'stockoptionlevel', 'totalworkingyears', 'trainingtimeslastyear',\n",
       "       'worklifebalance', 'yearsatcompany', 'yearsincurrentrole',\n",
       "       'yearssincelastpromotion', 'yearswithcurrmanager', 'datebirth',\n",
       "       '$_salary', 'remotework'],\n",
       "      dtype='object')"
      ]
     },
     "execution_count": 4,
     "metadata": {},
     "output_type": "execute_result"
    }
   ],
   "source": [
    "df_final.columns"
   ]
  },
  {
   "cell_type": "code",
   "execution_count": 5,
   "metadata": {},
   "outputs": [],
   "source": [
    "df_final.columns = df_final.columns.str.strip()\n",
    "#Para borrar espacios en blanco"
   ]
  },
  {
   "cell_type": "code",
   "execution_count": 6,
   "metadata": {},
   "outputs": [],
   "source": [
    "df_final = df_final.loc[:, ~df_final.columns.str.contains(\"^Unnamed\")]\n",
    "# Para borrar las columnas Unnamed"
   ]
  },
  {
   "cell_type": "code",
   "execution_count": 7,
   "metadata": {},
   "outputs": [
    {
     "name": "stderr",
     "output_type": "stream",
     "text": [
      "C:\\Users\\Usuario\\AppData\\Local\\Temp\\ipykernel_23292\\1231838440.py:1: FutureWarning: Setting an item of incompatible dtype is deprecated and will raise an error in a future version of pandas. Value '' has dtype incompatible with float64, please explicitly cast to a compatible dtype first.\n",
      "  df_final.fillna(value='', inplace=True) # Esto reemplaza NaN por None, que se convierte en NULL en MySQL.\n"
     ]
    }
   ],
   "source": [
    "df_final.fillna(value='', inplace=True) # Esto reemplaza NaN por None, que se convierte en NULL en MySQL."
   ]
  },
  {
   "cell_type": "code",
   "execution_count": 8,
   "metadata": {},
   "outputs": [],
   "source": [
    "# Hay que dividirlo en 3 tablas porque ahora solo tenemos una que queremos convertir en 3\n",
    "# Tabla 1: employee_details\n",
    "df_employee_details = df_final[['employee_id', 'age', 'distancefromhome', 'education',\n",
    "                                'educationfield', 'gender', 'maritalstatus', 'numcompaniesworked',\n",
    "                                'totalworkingyears', 'datebirth']]"
   ]
  },
  {
   "cell_type": "code",
   "execution_count": 9,
   "metadata": {},
   "outputs": [],
   "source": [
    "# Tabla 2: employee_satisfaction\n",
    "df_employee_satisfaction = df_final[['employee_id', 'environmentsatisfaction', 'jobsatisfaction',\n",
    "                                     'relationshipsatisfaction', 'worklifebalance', 'jobinvolvement']]"
   ]
  },
  {
   "cell_type": "code",
   "execution_count": 10,
   "metadata": {},
   "outputs": [],
   "source": [
    "# Tabla 3: job_details\n",
    "df_job_details = df_final[['employee_id', 'attrition', 'businesstravel', '$_dailyrate', 'department',\n",
    "                           '$_hourlyrate', 'joblevel', 'jobrole', '$_monthlyincome', '$_monthlyrate',\n",
    "                           'overtime', '%_percentsalaryhike', 'performancerating', 'standardhours',\n",
    "                           'stockoptionlevel', 'trainingtimeslastyear', 'yearsatcompany',\n",
    "                           'yearsincurrentrole', 'yearssincelastpromotion', 'yearswithcurrmanager',\n",
    "                           '$_salary', 'remotework']]\n"
   ]
  },
  {
   "cell_type": "code",
   "execution_count": 11,
   "metadata": {},
   "outputs": [],
   "source": [
    "df_job_details.columns = df_job_details.columns.str.replace(r'[$%]', '', regex=True)\n",
    "df_job_details.columns = df_job_details.columns.str.replace(r'^_', '', regex=True)\n",
    "# Eliminar símbolos que dan error"
   ]
  },
  {
   "cell_type": "code",
   "execution_count": 12,
   "metadata": {},
   "outputs": [],
   "source": [
    "lista_details = df_employee_details.values.tolist()\n",
    "lista_satisfaction = df_employee_satisfaction.values.tolist()\n",
    "lista_job = df_job_details.values.tolist()"
   ]
  },
  {
   "cell_type": "code",
   "execution_count": 13,
   "metadata": {},
   "outputs": [
    {
     "name": "stdout",
     "output_type": "stream",
     "text": [
      "['employee_id', 'attrition', 'businesstravel', 'dailyrate', 'department', 'hourlyrate', 'joblevel', 'jobrole', 'monthlyincome', 'monthlyrate', 'overtime', 'percentsalaryhike', 'performancerating', 'standardhours', 'stockoptionlevel', 'trainingtimeslastyear', 'yearsatcompany', 'yearsincurrentrole', 'yearssincelastpromotion', 'yearswithcurrmanager', 'salary', 'remotework']\n"
     ]
    }
   ],
   "source": [
    "print(df_job_details.columns.tolist())  \n"
   ]
  },
  {
   "cell_type": "code",
   "execution_count": 14,
   "metadata": {},
   "outputs": [],
   "source": [
    "import mysql.connector\n",
    "from mysql.connector import errorcode"
   ]
  },
  {
   "cell_type": "code",
   "execution_count": 15,
   "metadata": {},
   "outputs": [],
   "source": [
    "cnx = mysql.connector.connect(user='root', password='AlumnaAdalab',\n",
    "                              host='127.0.0.1',\n",
    "                              database ='proyecto_abc')\n",
    "\n",
    "mycursor = cnx.cursor() # creamos el \"camioncito que transporta\""
   ]
  },
  {
   "cell_type": "code",
   "execution_count": 16,
   "metadata": {},
   "outputs": [],
   "source": [
    "# Consulta SQL para INTRODUCIR DATOS de employee_details\n",
    "query = \"\"\"\n",
    "INSERT INTO employee_details (employee_id,age,distancefromhome,education,educationfield,gender,maritalstatus,numcompaniesworked,totalworkingyears,datebirth)\n",
    "VALUES (%s,%s,%s,%s,%s,%s,%s,%s,%s,%s)\n",
    "\"\"\"\n",
    "mycursor.executemany(query, lista_details)"
   ]
  },
  {
   "cell_type": "code",
   "execution_count": 17,
   "metadata": {},
   "outputs": [],
   "source": [
    "# Consulta SQL para INTRODUCIR DATOS de employee_satisfaction\n",
    "\n",
    "query2 = \"\"\"\n",
    "INSERT INTO employee_satisfaction (employee_id,environmentsatisfaction,jobsatisfaction,relationshipsatisfaction,worklifebalance,jobinvolvement)\n",
    "VALUES (%s,%s,%s,%s,%s,%s)\n",
    "\"\"\"\n",
    "mycursor.executemany(query2, lista_satisfaction)"
   ]
  },
  {
   "cell_type": "code",
   "execution_count": 18,
   "metadata": {},
   "outputs": [],
   "source": [
    "# Consulta SQL para INTRODUCIR DATOS de job_details\n",
    "query3 = \"\"\"\n",
    "INSERT INTO job_details (employee_id, attrition, businesstravel, dailyrate, department, hourlyrate, joblevel, jobrole, monthlyincome, monthlyrate, overtime, percentsalaryhike, performancerating, standardhours, stockoptionlevel, trainingtimeslastyear, yearsatcompany, yearsincurrentrole, yearssincelastpromotion, yearswithcurrmanager, salary, remotework)\n",
    "VALUES (%s,%s,%s,%s,%s,%s,%s,%s,%s,%s,%s,%s,%s,%s,%s,%s,%s,%s,%s,%s,%s,%s)\n",
    "\"\"\"\n",
    "\n",
    "# Asegúrate de que lista_job tiene la misma cantidad de columnas que la consulta\n",
    "mycursor.executemany(query3, lista_job)"
   ]
  },
  {
   "cell_type": "code",
   "execution_count": 20,
   "metadata": {},
   "outputs": [
    {
     "name": "stdout",
     "output_type": "stream",
     "text": [
      "✅ Datos insertados correctamente.\n",
      "1614 registros insertados.\n"
     ]
    }
   ],
   "source": [
    "lista_de_tuplas = []\n",
    "# Insertar datos\n",
    "try:\n",
    "    mycursor.executemany(query, lista_de_tuplas)\n",
    "    cnx.commit()\n",
    "    print(\"✅ Datos insertados correctamente.\")\n",
    "    print(mycursor.rowcount, \"registros insertados.\")\n",
    "except mysql.connector.Error as err:\n",
    "    print(\"❌ Error al insertar:\", err)\n",
    "    cnx.rollback()\n",
    "\n",
    "# Cerrar conexión\n",
    "mycursor.close()\n",
    "cnx.close()"
   ]
  }
 ],
 "metadata": {
  "kernelspec": {
   "display_name": "base",
   "language": "python",
   "name": "python3"
  },
  "language_info": {
   "codemirror_mode": {
    "name": "ipython",
    "version": 3
   },
   "file_extension": ".py",
   "mimetype": "text/x-python",
   "name": "python",
   "nbconvert_exporter": "python",
   "pygments_lexer": "ipython3",
   "version": "3.12.7"
  }
 },
 "nbformat": 4,
 "nbformat_minor": 2
}
